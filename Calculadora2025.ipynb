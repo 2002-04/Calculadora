{
  "nbformat": 4,
  "nbformat_minor": 0,
  "metadata": {
    "colab": {
      "provenance": []
    },
    "kernelspec": {
      "name": "python3",
      "display_name": "Python 3"
    },
    "language_info": {
      "name": "python"
    }
  },
  "cells": [
    {
      "cell_type": "code",
      "execution_count": null,
      "metadata": {
        "id": "npmx5Q-EQCDf"
      },
      "outputs": [],
      "source": [
        "# Definir el tiempo de simulación\n",
        "t = np.linspace(0, duracion_simulacion, 1000)\n",
        "\n",
        "# Definición de la señal de información\n",
        "informacion = amplitud_informacion * np.sin(2 * np.pi * frecuencia_informacion * t)\n",
        "\n",
        "# Definición de la señal portadora\n",
        "portadora = amplitud_portadora * np.cos(2 * np.pi * frecuencia_portadora * t)\n",
        "\n",
        "# Simulación de la modulación AM\n",
        "modulada = (1 + informacion) * portadora\n",
        "\n",
        "# Visualización de las señales\n",
        "plt.figure(figsize=(12, 8))\n",
        "\n",
        "# Señal de información\n",
        "plt.subplot(3, 1, 1)\n",
        "plt.plot(t, informacion, label='Señal de Información', color='r')\n",
        "plt.title('Señal de Información')\n",
        "plt.xlabel('Tiempo [s]')\n",
        "plt.ylabel('Amplitud')\n",
        "plt.legend()\n",
        "plt.grid()\n"
      ]
    }
  ]
}